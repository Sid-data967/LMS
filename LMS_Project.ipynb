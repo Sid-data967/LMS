{
 "cells": [
  {
   "cell_type": "code",
   "execution_count": 1,
   "metadata": {},
   "outputs": [],
   "source": [
    "#library management system project gives us to how acceing the documents and book flows in library."
   ]
  },
  {
   "cell_type": "code",
   "execution_count": 2,
   "metadata": {},
   "outputs": [],
   "source": [
    "##### Steps for the LMS Project \n",
    "#1. Data Structures\n",
    "##*. store thr details of a book: book id, title, author, status(issued or available).\n",
    "#*. store the details of a student id, name, and list of books they have bprrowed.\n",
    "\n",
    "#2. Menu Options\n",
    "#*. Main Menu: Book issue, book deposit, admin menu.\n",
    "#*. Admin menu: Create student, dispaly students, modify students, etc.\n",
    "\n",
    "#3. basic Functions:\n",
    "#*. For creating,displaying, and modifying data #####"
   ]
  },
  {
   "cell_type": "code",
   "execution_count": 3,
   "metadata": {},
   "outputs": [],
   "source": [
    "# import the Necessary Modules \n"
   ]
  },
  {
   "cell_type": "code",
   "execution_count": 4,
   "metadata": {},
   "outputs": [],
   "source": [
    "import pickle\n",
    "import os"
   ]
  },
  {
   "cell_type": "code",
   "execution_count": 5,
   "metadata": {},
   "outputs": [],
   "source": [
    "# Define Book and student Classes"
   ]
  },
  {
   "cell_type": "code",
   "execution_count": 9,
   "metadata": {},
   "outputs": [],
   "source": [
    "class Book:\n",
    "    def __init__(self,book_id,title,author):\n",
    "        self.book_id = book_id\n",
    "        self.title = title \n",
    "        self.author = author\n",
    "        self.status = \"Available\" \n",
    "\n",
    "class Student:\n",
    "    def __init__(self,student_id,name):\n",
    "        self.student_id = student_id\n",
    "        self.name = name \n",
    "        self.book_issued = []"
   ]
  },
  {
   "cell_type": "code",
   "execution_count": 10,
   "metadata": {},
   "outputs": [],
   "source": [
    "# Create Book"
   ]
  },
  {
   "cell_type": "code",
   "execution_count": 27,
   "metadata": {},
   "outputs": [],
   "source": [
    "def create_book():\n",
    "    book_id = input(\"Enter book ID: \")\n",
    "    title =  input(\"Enter book title: \")\n",
    "    author = input(\"Enter author name: \")\n",
    "\n",
    "    book = Book(book_id, title,author)\n",
    "\n",
    "    #save the book to the file\n",
    "    with open( 'book.dat', 'ab') as file:\n",
    "        pickle.dump(book,file)\n",
    "\n",
    "    print(f'Book \"{title}\" added successfully!')"
   ]
  },
  {
   "cell_type": "code",
   "execution_count": 28,
   "metadata": {},
   "outputs": [],
   "source": [
    "# Display All Books"
   ]
  },
  {
   "cell_type": "code",
   "execution_count": 35,
   "metadata": {},
   "outputs": [],
   "source": [
    "def display_all_books():\n",
    "    try:\n",
    "        with open('book.dat','rb') as file:\n",
    "            print(\"\\n--- All Books ---\")\n",
    "            while True:\n",
    "                try:\n",
    "                    book = pickle.load(file)\n",
    "                    print(f'ID: {book.book_id},Title: {book.title},Author: {book.auhtor},Status: {book.status}')\n",
    "                except EOFError:\n",
    "                    break\n",
    "    except FileNotFoundError:\n",
    "        print(\"No books found,\")"
   ]
  },
  {
   "cell_type": "code",
   "execution_count": 31,
   "metadata": {},
   "outputs": [],
   "source": [
    "# Create Student"
   ]
  },
  {
   "cell_type": "code",
   "execution_count": 33,
   "metadata": {},
   "outputs": [],
   "source": [
    "def create_student():\n",
    "    student_id = input(\"Enter student ID: \")\n",
    "    name = input(\"Enter student name: \")\n",
    "\n",
    "    student = Student(student_id, name)\n",
    "\n",
    "    # save the student to the file\n",
    "    with open('student.dat','ab') as file:\n",
    "        pickle.dump(student,file)\n",
    "\n",
    "    print(f'Student \"{name}\"added successfully!')"
   ]
  },
  {
   "cell_type": "code",
   "execution_count": 29,
   "metadata": {},
   "outputs": [],
   "source": [
    "# Display All Students"
   ]
  },
  {
   "cell_type": "code",
   "execution_count": 15,
   "metadata": {},
   "outputs": [],
   "source": [
    "def dispaly_all_students():\n",
    "    try:\n",
    "        with open('student.dat','rb') as file:\n",
    "            print(\"\\n--ALL Students--\")\n",
    "            while True:\n",
    "                try:\n",
    "                    student= pickle.load(file)\n",
    "                    print(f'ID: {student.student_id},Name:{student.name}, Books Issued: {student.books_issued}')\n",
    "                except EOFError:\n",
    "                    break\n",
    "    except FileNotFoundError:\n",
    "        print(\"No students found.\")    \n"
   ]
  },
  {
   "cell_type": "code",
   "execution_count": 17,
   "metadata": {},
   "outputs": [],
   "source": [
    "# Main Menu and Admin Menu"
   ]
  },
  {
   "cell_type": "code",
   "execution_count": 19,
   "metadata": {},
   "outputs": [],
   "source": [
    "def main_menu():\n",
    "    while True:\n",
    "        print(\"\\n---main menu---\")\n",
    "        print(\"1.Issue Book\")\n",
    "        print(\"2.Deposit Book\")\n",
    "        print(\"3.Admin menu\")\n",
    "        print(\"4.Exit\")\n",
    "        choice = input(\"ENter your choice: \")\n",
    "\n",
    "        if choice =='1':\n",
    "            print(\"Issue Book functionality will be here\")\n",
    "        elif choice == '2':\n",
    "            print(\"Deposit Book functionality will be here\")\n",
    "        elif choice =='3':\n",
    "            admin_menu()\n",
    "        elif choice == '4':\n",
    "            print(\"Exiting...\")\n",
    "            break\n",
    "        else:\n",
    "            print(\"Invalid choice, please try again.\")\n",
    "\n",
    "\n",
    "def admin_menu():\n",
    "    while True:\n",
    "        print(\"\\n---Admin Menu---\")\n",
    "        print(\"1.Create Student record\")\n",
    "        print(\"2.Display All Students\")\n",
    "        print(\"3.Create Book\")\n",
    "        print(\"4. Display All Books\")\n",
    "        print(\"5.Back to main menu\")\n",
    "        choice = input(\"Enter your choice:\")\n",
    "\n",
    "        if choice =='1':\n",
    "            Student()\n",
    "        elif choice == '2':\n",
    "            dispaly_all_students()\n",
    "        elif choice == '3':\n",
    "            create_book()\n",
    "        elif choice =='4':\n",
    "            Book()\n",
    "        elif choice == '5':\n",
    "            break\n",
    "        else:\n",
    "            print(\"Inavlid choice, please try again.\")\n"
   ]
  },
  {
   "cell_type": "code",
   "execution_count": 37,
   "metadata": {},
   "outputs": [
    {
     "name": "stdout",
     "output_type": "stream",
     "text": [
      "\n",
      "---main menu---\n",
      "1.Issue Book\n",
      "2.Deposit Book\n",
      "3.Admin menu\n",
      "4.Exit\n",
      "\n",
      "---Admin Menu---\n",
      "1.Create Student record\n",
      "2.Display All Students\n",
      "3.Create Book\n",
      "4. Display All Books\n",
      "5.Back to main menu\n",
      "Book \"koma\" added successfully!\n",
      "\n",
      "---Admin Menu---\n",
      "1.Create Student record\n",
      "2.Display All Students\n",
      "3.Create Book\n",
      "4. Display All Books\n",
      "5.Back to main menu\n",
      "\n",
      "--- All Books ---\n"
     ]
    },
    {
     "ename": "AttributeError",
     "evalue": "'Book' object has no attribute 'auhtor'",
     "output_type": "error",
     "traceback": [
      "\u001b[1;31m---------------------------------------------------------------------------\u001b[0m",
      "\u001b[1;31mAttributeError\u001b[0m                            Traceback (most recent call last)",
      "Cell \u001b[1;32mIn[37], line 2\u001b[0m\n\u001b[0;32m      1\u001b[0m \u001b[38;5;28;01mif\u001b[39;00m \u001b[38;5;18m__name__\u001b[39m\u001b[38;5;241m==\u001b[39m\u001b[38;5;124m'\u001b[39m\u001b[38;5;124m__main__\u001b[39m\u001b[38;5;124m'\u001b[39m:\n\u001b[1;32m----> 2\u001b[0m     \u001b[43mmain_menu\u001b[49m\u001b[43m(\u001b[49m\u001b[43m)\u001b[49m\n",
      "Cell \u001b[1;32mIn[19], line 15\u001b[0m, in \u001b[0;36mmain_menu\u001b[1;34m()\u001b[0m\n\u001b[0;32m     13\u001b[0m     \u001b[38;5;28mprint\u001b[39m(\u001b[38;5;124m\"\u001b[39m\u001b[38;5;124mDeposit Book functionality will be here\u001b[39m\u001b[38;5;124m\"\u001b[39m)\n\u001b[0;32m     14\u001b[0m \u001b[38;5;28;01melif\u001b[39;00m choice \u001b[38;5;241m==\u001b[39m\u001b[38;5;124m'\u001b[39m\u001b[38;5;124m3\u001b[39m\u001b[38;5;124m'\u001b[39m:\n\u001b[1;32m---> 15\u001b[0m     \u001b[43madmin_menu\u001b[49m\u001b[43m(\u001b[49m\u001b[43m)\u001b[49m\n\u001b[0;32m     16\u001b[0m \u001b[38;5;28;01melif\u001b[39;00m choice \u001b[38;5;241m==\u001b[39m \u001b[38;5;124m'\u001b[39m\u001b[38;5;124m4\u001b[39m\u001b[38;5;124m'\u001b[39m:\n\u001b[0;32m     17\u001b[0m     \u001b[38;5;28mprint\u001b[39m(\u001b[38;5;124m\"\u001b[39m\u001b[38;5;124mExiting...\u001b[39m\u001b[38;5;124m\"\u001b[39m)\n",
      "Cell \u001b[1;32mIn[19], line 40\u001b[0m, in \u001b[0;36madmin_menu\u001b[1;34m()\u001b[0m\n\u001b[0;32m     38\u001b[0m     create_book()\n\u001b[0;32m     39\u001b[0m \u001b[38;5;28;01melif\u001b[39;00m choice \u001b[38;5;241m==\u001b[39m\u001b[38;5;124m'\u001b[39m\u001b[38;5;124m4\u001b[39m\u001b[38;5;124m'\u001b[39m:\n\u001b[1;32m---> 40\u001b[0m     \u001b[43mdisplay_all_books\u001b[49m\u001b[43m(\u001b[49m\u001b[43m)\u001b[49m\n\u001b[0;32m     41\u001b[0m \u001b[38;5;28;01melif\u001b[39;00m choice \u001b[38;5;241m==\u001b[39m \u001b[38;5;124m'\u001b[39m\u001b[38;5;124m5\u001b[39m\u001b[38;5;124m'\u001b[39m:\n\u001b[0;32m     42\u001b[0m     \u001b[38;5;28;01mbreak\u001b[39;00m\n",
      "Cell \u001b[1;32mIn[35], line 8\u001b[0m, in \u001b[0;36mdisplay_all_books\u001b[1;34m()\u001b[0m\n\u001b[0;32m      6\u001b[0m \u001b[38;5;28;01mtry\u001b[39;00m:\n\u001b[0;32m      7\u001b[0m     book \u001b[38;5;241m=\u001b[39m pickle\u001b[38;5;241m.\u001b[39mload(file)\n\u001b[1;32m----> 8\u001b[0m     \u001b[38;5;28mprint\u001b[39m(\u001b[38;5;124mf\u001b[39m\u001b[38;5;124m'\u001b[39m\u001b[38;5;124mID: \u001b[39m\u001b[38;5;132;01m{\u001b[39;00mbook\u001b[38;5;241m.\u001b[39mbook_id\u001b[38;5;132;01m}\u001b[39;00m\u001b[38;5;124m,Title: \u001b[39m\u001b[38;5;132;01m{\u001b[39;00mbook\u001b[38;5;241m.\u001b[39mtitle\u001b[38;5;132;01m}\u001b[39;00m\u001b[38;5;124m,Author: \u001b[39m\u001b[38;5;132;01m{\u001b[39;00m\u001b[43mbook\u001b[49m\u001b[38;5;241;43m.\u001b[39;49m\u001b[43mauhtor\u001b[49m\u001b[38;5;132;01m}\u001b[39;00m\u001b[38;5;124m,Status: \u001b[39m\u001b[38;5;132;01m{\u001b[39;00mbook\u001b[38;5;241m.\u001b[39mstatus\u001b[38;5;132;01m}\u001b[39;00m\u001b[38;5;124m'\u001b[39m)\n\u001b[0;32m      9\u001b[0m \u001b[38;5;28;01mexcept\u001b[39;00m \u001b[38;5;167;01mEOFError\u001b[39;00m:\n\u001b[0;32m     10\u001b[0m     \u001b[38;5;28;01mbreak\u001b[39;00m\n",
      "\u001b[1;31mAttributeError\u001b[0m: 'Book' object has no attribute 'auhtor'"
     ]
    }
   ],
   "source": [
    "if __name__=='__main__':\n",
    "    main_menu()\n"
   ]
  }
 ],
 "metadata": {
  "kernelspec": {
   "display_name": "Python 3",
   "language": "python",
   "name": "python3"
  },
  "language_info": {
   "codemirror_mode": {
    "name": "ipython",
    "version": 3
   },
   "file_extension": ".py",
   "mimetype": "text/x-python",
   "name": "python",
   "nbconvert_exporter": "python",
   "pygments_lexer": "ipython3",
   "version": "3.12.3"
  }
 },
 "nbformat": 4,
 "nbformat_minor": 2
}
